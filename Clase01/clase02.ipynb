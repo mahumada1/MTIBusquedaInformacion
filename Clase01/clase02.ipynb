{
 "cells": [
  {
   "cell_type": "code",
   "execution_count": 1,
   "metadata": {},
   "outputs": [],
   "source": [
    "import numpy as np\n",
    "import pandas as pd\n",
    "import gensim\n",
    "from gensim.test.utils import common_texts\n",
    "from gensim.models import Word2Vec\n",
    "from gensim.models.word2vec import LineSentence\n",
    "import urllib.request\n",
    "import shutil\n",
    "import os\n",
    "import random\n",
    "import gensim.downloader\n",
    "from gensim.models.keyedvectors import KeyedVectors\n",
    "from sklearn.manifold import TSNE\n",
    "import matplotlib.pyplot as plt\n",
    "import seaborn as sns"
   ]
  },
  {
   "cell_type": "markdown",
   "metadata": {},
   "source": [
    "# Word embeddings"
   ]
  },
  {
   "cell_type": "markdown",
   "metadata": {},
   "source": [
    "## Listar modelos pre-entrenados disponibles en Gensim"
   ]
  },
  {
   "cell_type": "code",
   "execution_count": 2,
   "metadata": {},
   "outputs": [
    {
     "name": "stdout",
     "output_type": "stream",
     "text": [
      "['fasttext-wiki-news-subwords-300', 'conceptnet-numberbatch-17-06-300', 'word2vec-ruscorpora-300', 'word2vec-google-news-300', 'glove-wiki-gigaword-50', 'glove-wiki-gigaword-100', 'glove-wiki-gigaword-200', 'glove-wiki-gigaword-300', 'glove-twitter-25', 'glove-twitter-50', 'glove-twitter-100', 'glove-twitter-200', '__testing_word2vec-matrix-synopsis']\n"
     ]
    }
   ],
   "source": [
    "print(list(gensim.downloader.info()['models'].keys()))"
   ]
  },
  {
   "cell_type": "code",
   "execution_count": 5,
   "metadata": {},
   "outputs": [
    {
     "name": "stdout",
     "output_type": "stream",
     "text": [
      "[==================================================] 100.0% 104.8/104.8MB downloaded\n"
     ]
    }
   ],
   "source": [
    "# si quisieramos descargar uno, ejecutar la siguiente sentencia\n",
    "#glove_vectors = gensim.downloader.load('glove-twitter-25')"
   ]
  },
  {
   "cell_type": "markdown",
   "metadata": {},
   "source": [
    "## Carga modelo pre-entrenado\n",
    "\n",
    "Usaremos un modelo pre-entrenado en español disponible en el siguiente repositorio: <https://github.com/dccuchile/spanish-word-embeddings>. Para nuestro caso, utilizaremos el ``FastText embeddings from SBWC``"
   ]
  },
  {
   "cell_type": "code",
   "execution_count": 3,
   "metadata": {},
   "outputs": [],
   "source": [
    "wordvectors_file_vec = 'fasttext-sbwc.3.6.e20.vec'"
   ]
  },
  {
   "cell_type": "code",
   "execution_count": 4,
   "metadata": {},
   "outputs": [],
   "source": [
    "# cantidad = 100000 \n",
    "wordvectors = KeyedVectors.load_word2vec_format(wordvectors_file_vec)"
   ]
  },
  {
   "cell_type": "code",
   "execution_count": 5,
   "metadata": {},
   "outputs": [
    {
     "data": {
      "text/plain": [
       "855380"
      ]
     },
     "execution_count": 5,
     "metadata": {},
     "output_type": "execute_result"
    }
   ],
   "source": [
    "len(wordvectors)"
   ]
  },
  {
   "cell_type": "code",
   "execution_count": 6,
   "metadata": {},
   "outputs": [
    {
     "data": {
      "text/plain": [
       "array([-2.8397e-01, -2.6434e-03, -1.6633e-01,  5.0526e-02, -2.9012e-02,\n",
       "        4.5737e-02,  2.2064e-02,  3.1548e-01, -3.4187e-01,  2.7653e-01,\n",
       "       -3.5145e-01, -2.3341e-01, -8.6594e-03,  3.1230e-01,  5.8882e-02,\n",
       "        4.2373e-01,  3.8428e-01, -6.9711e-02, -1.3806e-01, -1.4918e-01,\n",
       "       -4.3125e-01,  2.1983e-01, -1.8735e-01,  9.9649e-02, -1.2246e-01,\n",
       "       -4.4257e-01,  2.2781e-01, -2.3949e-01, -2.3613e-01, -1.4958e-01,\n",
       "       -9.8259e-02, -8.3515e-02, -6.2705e-02,  6.8932e-02, -1.4664e-01,\n",
       "        2.1219e-02, -3.7631e-01, -4.3558e-01,  4.3239e-01, -4.1368e-02,\n",
       "       -2.4506e-02, -7.4748e-02, -6.0175e-02,  2.1106e-01, -1.4268e-01,\n",
       "        1.7014e-01,  1.6848e-01, -2.4511e-02,  2.4360e-01,  1.8308e-02,\n",
       "        2.6153e-02, -4.3153e-02, -2.6795e-02,  1.2762e-01, -8.3548e-02,\n",
       "       -1.0142e-01, -2.1147e-01, -4.5020e-01,  3.3155e-01,  1.5876e-01,\n",
       "        9.3535e-02,  2.3942e-01,  2.4001e-01, -7.6924e-02, -6.1780e-03,\n",
       "        1.1939e-01, -2.7113e-01, -5.8514e-02,  1.8275e-01, -5.1436e-01,\n",
       "       -2.9016e-01, -1.0231e-02, -4.3767e-02, -6.6534e-02, -1.9352e-01,\n",
       "       -4.9187e-01,  4.2835e-02, -2.1199e-01,  6.7998e-02, -4.0886e-01,\n",
       "        1.8152e-01, -1.7685e-01, -9.4380e-02, -6.4294e-02, -1.4935e-01,\n",
       "       -2.4149e-02,  2.4966e-02, -2.2460e-02, -3.0999e-02, -3.1545e-01,\n",
       "        3.6973e-01, -2.3301e-01,  1.3725e-01,  2.6635e-01,  2.0555e-01,\n",
       "        1.1752e-03, -5.2714e-02, -3.0389e-01,  1.7534e-01, -2.2146e-01,\n",
       "        2.0195e-01,  2.6380e-01,  1.7428e-01, -1.9345e-01, -9.2973e-02,\n",
       "       -1.3904e-01,  6.6641e-02,  3.5553e-01,  1.1374e-01,  3.0342e-02,\n",
       "        2.2808e-01,  3.7051e-02, -2.6877e-01, -2.8048e-02, -3.9263e-02,\n",
       "        6.9574e-02, -2.9452e-01, -3.0454e-01,  4.4726e-03,  1.1753e-01,\n",
       "       -4.2185e-03, -2.1756e-01,  2.5065e-01, -1.4040e-01, -2.3740e-01,\n",
       "       -2.9219e-01, -1.7810e-01,  8.5054e-02, -3.6143e-01,  1.2098e-01,\n",
       "       -2.8146e-01,  3.3963e-01,  1.5243e-02,  3.9063e-01,  3.8177e-01,\n",
       "        4.9897e-02,  8.3026e-03,  9.8756e-02,  3.7985e-01, -8.6177e-02,\n",
       "       -3.1109e-01, -2.2287e-01, -3.3282e-01,  1.5203e-01,  6.0128e-02,\n",
       "        1.4426e-01,  6.8908e-02, -1.2574e-01, -4.4650e-02, -4.0129e-02,\n",
       "        1.6565e-01,  3.1114e-01,  1.5121e-01, -4.5231e-04, -7.6531e-02,\n",
       "       -7.0289e-02, -1.8495e-01,  3.3629e-01,  4.3542e-02, -4.1227e-01,\n",
       "       -1.2794e-02,  3.2271e-01, -3.0423e-01, -1.5141e-02,  2.7106e-01,\n",
       "       -2.3863e-01,  2.0277e-01, -1.7325e-01,  2.8252e-02,  1.8734e-01,\n",
       "        5.2322e-02, -2.3338e-01,  6.6113e-03,  2.1465e-01,  2.7572e-02,\n",
       "       -1.6427e-01,  2.3748e-01,  9.4236e-02, -4.1310e-01, -3.3172e-01,\n",
       "       -4.5655e-02, -1.1948e-01,  2.4996e-02,  2.2932e-01,  1.6481e-01,\n",
       "       -3.1343e-01, -4.9796e-01, -4.8533e-01,  1.7381e-02, -7.8228e-02,\n",
       "        6.8206e-02, -2.0918e-01,  1.5974e-01, -3.7056e-01,  5.6652e-02,\n",
       "        2.9033e-01,  2.4502e-01, -3.3182e-02,  2.6313e-02,  6.0862e-02,\n",
       "        2.5323e-01, -3.1569e-02,  2.1518e-01,  4.3894e-01, -2.3805e-01,\n",
       "       -8.9147e-02, -7.3367e-01,  7.3941e-02,  4.0471e-01, -1.8308e-01,\n",
       "        2.1307e-01, -2.4258e-01, -5.6941e-02,  5.0479e-02,  2.0459e-01,\n",
       "        1.4980e-01, -3.3914e-01, -3.5680e-02,  2.4385e-01,  2.7886e-01,\n",
       "        2.1169e-02, -4.9463e-01,  2.1549e-01, -3.0869e-02,  5.6410e-01,\n",
       "       -1.6628e-01, -1.2415e-02,  6.4661e-02,  1.0409e-01,  1.3820e-02,\n",
       "       -6.5947e-03,  1.1426e-01,  4.2115e-01,  3.7326e-01, -3.1685e-02,\n",
       "        9.5295e-02,  5.6634e-01, -2.3237e-01, -4.3908e-01,  3.9784e-03,\n",
       "       -2.1015e-01, -2.1450e-01,  4.8647e-01,  2.3149e-01, -5.5732e-02,\n",
       "       -3.8137e-01,  2.0863e-03, -2.4190e-01,  1.3621e-01,  5.2121e-01,\n",
       "        1.8628e-02, -5.6711e-02, -2.2284e-01, -5.5265e-01,  2.1377e-01,\n",
       "        2.1865e-02, -3.4482e-01, -3.9396e-01, -8.5714e-03, -3.8613e-02,\n",
       "        2.9803e-01,  4.8171e-01,  7.3003e-02, -6.2100e-02, -1.6659e-01,\n",
       "        3.0922e-01,  9.1033e-02, -1.9560e-01, -1.7770e-01,  3.8456e-01,\n",
       "       -5.7333e-02, -3.5741e-02,  3.3572e-02, -1.2771e-01,  3.4939e-02,\n",
       "        2.7878e-02, -3.5539e-01,  4.8404e-01, -2.2937e-01,  1.7787e-01,\n",
       "        3.4381e-01, -2.8818e-01,  6.2539e-01,  4.4083e-02, -2.6719e-01,\n",
       "        2.4562e-01,  4.4584e-01,  7.3608e-02,  1.3774e-01, -1.4463e-01,\n",
       "        5.4011e-02, -7.6664e-02, -9.8355e-02,  3.5034e-01, -1.2780e-01,\n",
       "       -2.3452e-01, -6.0127e-03, -3.1968e-01,  8.3124e-02, -1.5501e-02],\n",
       "      dtype=float32)"
      ]
     },
     "execution_count": 6,
     "metadata": {},
     "output_type": "execute_result"
    }
   ],
   "source": [
    "wordvectors['rey']"
   ]
  },
  {
   "cell_type": "markdown",
   "metadata": {},
   "source": [
    "## Palabras más similares y analogías\n",
    "\n",
    "Los embeddings son capaces de codificar información del contexto de las palabras en vectores, por lo que tenemos disponible ciertas funciones vectoriales para ciertas tareas."
   ]
  },
  {
   "cell_type": "markdown",
   "metadata": {},
   "source": [
    "### Términos más similares"
   ]
  },
  {
   "cell_type": "code",
   "execution_count": 7,
   "metadata": {},
   "outputs": [
    {
     "data": {
      "text/plain": [
       "[('anciano', 0.6532875895500183),\n",
       " ('muchacho', 0.6404476761817932),\n",
       " ('varón', 0.6309205293655396),\n",
       " ('individuo', 0.6268893480300903),\n",
       " ('joven', 0.6027082800865173),\n",
       " ('hombree', 0.6007208824157715),\n",
       " ('mujer', 0.5953878164291382),\n",
       " ('hombres', 0.5853502154350281),\n",
       " ('indigente', 0.5837392210960388),\n",
       " ('jovencito', 0.580890953540802)]"
      ]
     },
     "execution_count": 7,
     "metadata": {},
     "output_type": "execute_result"
    }
   ],
   "source": [
    "wordvectors.most_similar('hombre', topn=10)"
   ]
  },
  {
   "cell_type": "code",
   "execution_count": 8,
   "metadata": {},
   "outputs": [
    {
     "data": {
      "text/plain": [
       "[('laboratorial', 0.8547524213790894),\n",
       " ('laboratoria', 0.8481666445732117),\n",
       " ('laboratoriales', 0.7994176149368286),\n",
       " ('laboratorios', 0.79575115442276),\n",
       " ('minilaboratorio', 0.7917669415473938),\n",
       " ('colaboratorio', 0.7672058939933777),\n",
       " ('superlaboratorio', 0.7669066786766052),\n",
       " ('interlaboratorio', 0.7432280778884888),\n",
       " ('laboratorista', 0.7341845631599426),\n",
       " ('megalaboratorio', 0.7281759977340698)]"
      ]
     },
     "execution_count": 8,
     "metadata": {},
     "output_type": "execute_result"
    }
   ],
   "source": [
    "wordvectors.most_similar('laboratorio', topn=10)"
   ]
  },
  {
   "cell_type": "code",
   "execution_count": 9,
   "metadata": {},
   "outputs": [
    {
     "data": {
      "text/plain": [
       "[('niña', 0.6718433499336243),\n",
       " ('mujera', 0.6388276815414429),\n",
       " ('mujeres', 0.6201333403587341),\n",
       " ('hombre', 0.5953877568244934),\n",
       " ('mujers', 0.5783287286758423),\n",
       " ('marido', 0.5680555701255798),\n",
       " ('muchacha', 0.5595178008079529),\n",
       " ('mujerse', 0.5586514472961426),\n",
       " ('mujere', 0.5529941916465759),\n",
       " ('adolescente', 0.5462560653686523)]"
      ]
     },
     "execution_count": 9,
     "metadata": {},
     "output_type": "execute_result"
    }
   ],
   "source": [
    "wordvectors.most_similar('mujer', topn = 10)"
   ]
  },
  {
   "cell_type": "code",
   "execution_count": 10,
   "metadata": {},
   "outputs": [
    {
     "data": {
      "text/plain": [
       "[('doctoro', 0.7402119636535645),\n",
       " ('doctoré', 0.6976317763328552),\n",
       " ('doctora', 0.6914691925048828),\n",
       " ('doctores', 0.668314516544342),\n",
       " ('dr', 0.657386839389801),\n",
       " ('profesor', 0.6322946548461914),\n",
       " ('cirujano', 0.6235553622245789),\n",
       " ('catedrático', 0.6097984313964844),\n",
       " ('licenciado', 0.6047168374061584),\n",
       " ('neurocirujano', 0.6024907827377319)]"
      ]
     },
     "execution_count": 10,
     "metadata": {},
     "output_type": "execute_result"
    }
   ],
   "source": [
    "wordvectors.most_similar('doctor', topn = 10)"
   ]
  },
  {
   "cell_type": "code",
   "execution_count": 11,
   "metadata": {},
   "outputs": [
    {
     "data": {
      "text/plain": [
       "[('neuróloga', 0.7426453232765198),\n",
       " ('profesora', 0.7331705689430237),\n",
       " ('psicóloga', 0.7246388792991638),\n",
       " ('catedrática', 0.7205197811126709),\n",
       " ('cardióloga', 0.7068800330162048),\n",
       " ('viróloga', 0.7002931237220764),\n",
       " ('doctorada', 0.6974771618843079),\n",
       " ('doctoras', 0.6915507912635803),\n",
       " ('doctor', 0.691469132900238),\n",
       " ('bióloga', 0.6903846263885498)]"
      ]
     },
     "execution_count": 11,
     "metadata": {},
     "output_type": "execute_result"
    }
   ],
   "source": [
    "wordvectors.most_similar('doctora', topn = 10)"
   ]
  },
  {
   "cell_type": "markdown",
   "metadata": {},
   "source": [
    "### Analogías\n",
    "\n",
    "Analogías consisten en comparar 3 términos mediante una operación del estilo:\n",
    "\n",
    "$$palabra1 - palabra2 \\approx x- palabra3$$\n",
    "\n",
    "$$palabra1 - palabra2 + palabra3 \\approx x $$"
   ]
  },
  {
   "cell_type": "markdown",
   "metadata": {},
   "source": [
    "paris - francia = x - alemania\n",
    "paris - francia + alemania = x"
   ]
  },
  {
   "cell_type": "code",
   "execution_count": 12,
   "metadata": {},
   "outputs": [
    {
     "data": {
      "text/plain": [
       "[('berlin', 0.7378180623054504),\n",
       " ('münchen', 0.7009305357933044),\n",
       " ('dresden', 0.6813312768936157),\n",
       " ('frankfurt', 0.6787689328193665),\n",
       " ('munich', 0.6744019985198975)]"
      ]
     },
     "execution_count": 12,
     "metadata": {},
     "output_type": "execute_result"
    }
   ],
   "source": [
    "wordvectors.most_similar(positive = ['paris', 'alemania'], negative = ['francia'], topn = 5)"
   ]
  },
  {
   "cell_type": "code",
   "execution_count": 13,
   "metadata": {},
   "outputs": [
    {
     "data": {
      "text/plain": [
       "[('reina', 0.6306586265563965),\n",
       " ('infanta', 0.5454354882240295),\n",
       " ('princesa', 0.5346059203147888),\n",
       " ('berenguela', 0.5296739339828491),\n",
       " ('consorte', 0.5245280265808105)]"
      ]
     },
     "execution_count": 13,
     "metadata": {},
     "output_type": "execute_result"
    }
   ],
   "source": [
    "wordvectors.most_similar(positive = ['rey', 'mujer'], negative = ['hombre'], topn = 5)"
   ]
  },
  {
   "cell_type": "code",
   "execution_count": 14,
   "metadata": {},
   "outputs": [
    {
     "data": {
      "text/plain": [
       "[('doctora', 0.6580489277839661),\n",
       " ('oncóloga', 0.5702902674674988),\n",
       " ('ginecóloga', 0.5485242605209351),\n",
       " ('doctoré', 0.5280942320823669),\n",
       " ('doctorada', 0.5272044539451599)]"
      ]
     },
     "execution_count": 14,
     "metadata": {},
     "output_type": "execute_result"
    }
   ],
   "source": [
    "wordvectors.most_similar(positive = ['doctor', 'mujer'], negative = ['hombre'], topn = 5)"
   ]
  },
  {
   "cell_type": "code",
   "execution_count": 15,
   "metadata": {},
   "outputs": [
    {
     "data": {
      "text/plain": [
       "[('cachorro', 0.5529180765151978),\n",
       " ('perrito', 0.49059659242630005),\n",
       " ('cachorrito', 0.4870520532131195),\n",
       " ('gatito', 0.48580196499824524),\n",
       " ('niños', 0.4783463180065155)]"
      ]
     },
     "execution_count": 15,
     "metadata": {},
     "output_type": "execute_result"
    }
   ],
   "source": [
    "wordvectors.most_similar(positive = ['niño', 'perro'], negative = ['hombre'], topn = 5)"
   ]
  },
  {
   "cell_type": "code",
   "execution_count": 18,
   "metadata": {},
   "outputs": [],
   "source": [
    "def construct_tsne(keys, wmodel, topnw = 20):\n",
    "    embedding_clusters = []\n",
    "    word_clusters = []\n",
    "    for word in keys:\n",
    "        embeddings = []\n",
    "        words = []\n",
    "        for similar_word, _ in wmodel.most_similar(word, topn=topnw):\n",
    "            words.append(similar_word)\n",
    "            embeddings.append(wmodel[similar_word])\n",
    "        embedding_clusters.append(embeddings)\n",
    "        word_clusters.append(words)\n",
    "\n",
    "    embedding_clusters = np.array(embedding_clusters)\n",
    "    n, m, k = embedding_clusters.shape\n",
    "    tsne_model_en_2d = TSNE(perplexity=15, n_components=2, init='pca', n_iter=3500, random_state=32)\n",
    "    embeddings_en_2d = np.array(tsne_model_en_2d.fit_transform(embedding_clusters.reshape(n * m, k))).reshape(n, m, 2)\n",
    "    return embeddings_en_2d, word_clusters"
   ]
  },
  {
   "cell_type": "code",
   "execution_count": 19,
   "metadata": {},
   "outputs": [
    {
     "name": "stderr",
     "output_type": "stream",
     "text": [
      "C:\\Users\\manue\\AppData\\Roaming\\Python\\Python39\\site-packages\\sklearn\\manifold\\_t_sne.py:805: FutureWarning: The default learning rate in TSNE will change from 200.0 to 'auto' in 1.2.\n",
      "  warnings.warn(\n",
      "C:\\Users\\manue\\AppData\\Roaming\\Python\\Python39\\site-packages\\sklearn\\manifold\\_t_sne.py:991: FutureWarning: The PCA initialization in TSNE will change to have the standard deviation of PC1 equal to 1e-4 in 1.2. This will ensure better convergence.\n",
      "  warnings.warn(\n"
     ]
    }
   ],
   "source": [
    "embeddings, words= construct_tsne(['hombre', 'perro'], wordvectors, 10)"
   ]
  },
  {
   "cell_type": "code",
   "execution_count": 20,
   "metadata": {},
   "outputs": [],
   "source": [
    "from matplotlib.colors import rgb2hex\n",
    "import matplotlib.patches as mpatches\n",
    "def tsne_plot_similar_words(title, labels, embedding_clusters, word_clusters, a, fsize = (16,9)):\n",
    "    fig = plt.figure(figsize=fsize, dpi = 144)\n",
    "    ax = fig.add_subplot(111)\n",
    "    p = []\n",
    "    colors = []\n",
    "    colors.append(list(map(rgb2hex, sns.color_palette('Oranges', n_colors=len(labels))))[1])\n",
    "    colors.append(list(map(rgb2hex, sns.color_palette('Purples', n_colors=len(labels))))[1])\n",
    "    #colors = color.reshape(1,-1)\n",
    "    for label, embeddings, words, color in zip(labels, embedding_clusters, word_clusters, colors):\n",
    "        x = embeddings[:, 0]\n",
    "        y = embeddings[:, 1]\n",
    "        ax.scatter(x, y, alpha=a, label=label, s = 40, color = color)\n",
    "        for i, word in enumerate(words):\n",
    "            p.append(ax.annotate(word, xy = (x[i], y[i]), size = 8))\n",
    "\n",
    "    legend1 = mpatches.Patch(color=colors[0], label=labels[0])\n",
    "    legend2 = mpatches.Patch(color=colors[1], label=labels[1])\n",
    "    plt.legend(handles = [legend1, legend2], loc='upper right', prop={'size': 8})\n",
    "    plt.title(title, fontsize = 10)\n",
    "    ax.axes.xaxis.set_visible(False)\n",
    "    ax.axes.yaxis.set_visible(False)\n",
    "    ax.grid(False)\n",
    "\n",
    "    plt.show()"
   ]
  },
  {
   "cell_type": "code",
   "execution_count": 101,
   "metadata": {},
   "outputs": [
    {
     "data": {
      "image/png": "[encoded data removed]",
      "text/plain": [
       "<Figure size 864x576 with 1 Axes>"
      ]
     },
     "metadata": {
      "needs_background": "light"
     },
     "output_type": "display_data"
    }
   ],
   "source": [
    "tsne_plot_similar_words('Palabras similares para hombre y perro', ['hombre', 'perro'], embeddings, words, 0.7, fsize = (6,4))"
   ]
  },
  {
   "cell_type": "markdown",
   "metadata": {},
   "source": [
    "## Promediar vectores para representar texto"
   ]
  },
  {
   "cell_type": "code",
   "execution_count": 61,
   "metadata": {},
   "outputs": [],
   "source": [
    "def document_to_vectors(word2vec_model, doc, type = \"min\"):\n",
    "    doc = [word for word in doc if word in word2vec_model]\n",
    "    if len(doc) > 0:\n",
    "        if type == \"mean\":\n",
    "            return np.mean(word2vec_model[doc], axis=0)\n",
    "        elif type == \"min\":\n",
    "            return np.min(word2vec_model[doc], axis=0)\n",
    "        elif type == \"max\":\n",
    "            return np.max(word2vec_model[doc], axis=0)\n",
    "        else:\n",
    "            return np.median(word2vec_model[doc], axis=0)"
   ]
  },
  {
   "cell_type": "code",
   "execution_count": 62,
   "metadata": {},
   "outputs": [],
   "source": [
    "docs = ['el perro camina', 'el avion vuela muy alto', 'el perro corre', 'el avion despego']"
   ]
  },
  {
   "cell_type": "code",
   "execution_count": 63,
   "metadata": {},
   "outputs": [],
   "source": [
    "wvdocs = list()\n",
    "i = 0\n",
    "for d in docs:\n",
    "    wvd = document_to_vectors(wordvectors, d.split())\n",
    "    try:\n",
    "        if wvd.any():\n",
    "            wvdocs.append(wvd)\n",
    "    except:\n",
    "        i+=1\n",
    "        pass\n"
   ]
  },
  {
   "cell_type": "code",
   "execution_count": 64,
   "metadata": {},
   "outputs": [
    {
     "name": "stdout",
     "output_type": "stream",
     "text": [
      "palabras fuera del vocabulario: 0\n"
     ]
    }
   ],
   "source": [
    "print(\"palabras fuera del vocabulario:\",i)"
   ]
  },
  {
   "cell_type": "code",
   "execution_count": 65,
   "metadata": {},
   "outputs": [
    {
     "name": "stderr",
     "output_type": "stream",
     "text": [
      "C:\\Users\\manue\\AppData\\Roaming\\Python\\Python39\\site-packages\\sklearn\\manifold\\_t_sne.py:805: FutureWarning: The default learning rate in TSNE will change from 200.0 to 'auto' in 1.2.\n",
      "  warnings.warn(\n",
      "C:\\Users\\manue\\AppData\\Roaming\\Python\\Python39\\site-packages\\sklearn\\manifold\\_t_sne.py:991: FutureWarning: The PCA initialization in TSNE will change to have the standard deviation of PC1 equal to 1e-4 in 1.2. This will ensure better convergence.\n",
      "  warnings.warn(\n"
     ]
    }
   ],
   "source": [
    "embeddings_docs = TSNE(perplexity=15, n_components=2, init='pca', n_iter=3500, random_state=32).fit_transform(wvdocs)"
   ]
  },
  {
   "cell_type": "code",
   "execution_count": 66,
   "metadata": {},
   "outputs": [
    {
     "data": {
      "text/plain": [
       "array([[-375.74484 , -368.45605 ],\n",
       "       [-509.88144 ,  174.87907 ],\n",
       "       [-171.15219 ,  -29.721794],\n",
       "       [-714.47406 , -163.85512 ]], dtype=float32)"
      ]
     },
     "execution_count": 66,
     "metadata": {},
     "output_type": "execute_result"
    }
   ],
   "source": [
    "embeddings_docs"
   ]
  },
  {
   "cell_type": "code",
   "execution_count": 67,
   "metadata": {},
   "outputs": [],
   "source": [
    "def tsne_plot_2d_docs(title, embeddings1, texts, a, fsize = (16,9)):\n",
    "    fig = plt.figure(figsize=fsize, dpi = 144)\n",
    "    ax = fig.add_subplot(111)\n",
    "    p = []\n",
    "    colors = []\n",
    "    colors.append(list(map(rgb2hex, sns.color_palette('Oranges', n_colors=2)))[1])\n",
    "    x = embeddings1[:, 0]\n",
    "    y = embeddings1[:, 1]\n",
    "    ax.scatter(x, y, alpha=a, s = 40, color = colors[0])\n",
    "\n",
    "    for i, word in enumerate(texts):\n",
    "        p.append(ax.annotate(word, xy = (x[i], y[i]), size = 8))\n",
    "\n",
    "    plt.title(title, fontsize = 10)\n",
    "    #ax = plt.gca()\n",
    "    ax.axes.xaxis.set_visible(False)\n",
    "    ax.axes.yaxis.set_visible(False)\n",
    "\n",
    "    ax.grid(False)\n",
    "\n",
    "    plt.show()"
   ]
  },
  {
   "cell_type": "code",
   "execution_count": 68,
   "metadata": {},
   "outputs": [
    {
     "data": {
      "image/png": "[encoded data removed]",
      "text/plain": [
       "<Figure size 864x576 with 1 Axes>"
      ]
     },
     "metadata": {
      "needs_background": "light"
     },
     "output_type": "display_data"
    }
   ],
   "source": [
    "tsne_plot_2d_docs('bla', embeddings_docs,docs, 0.5, (6,4))"
   ]
  },
  {
   "cell_type": "code",
   "execution_count": null,
   "metadata": {},
   "outputs": [],
   "source": []
  }
 ],
 "metadata": {
  "kernelspec": {
   "display_name": "Python 3.9.13 64-bit",
   "language": "python",
   "name": "python3"
  },
  "language_info": {
   "codemirror_mode": {
    "name": "ipython",
    "version": 3
   },
   "file_extension": ".py",
   "mimetype": "text/x-python",
   "name": "python",
   "nbconvert_exporter": "python",
   "pygments_lexer": "ipython3",
   "version": "3.9.13"
  },
  "orig_nbformat": 4,
  "vscode": {
   "interpreter": {
    "hash": "9b4d75ac280b6c7c3aa43866cb82dc88915409b55fec83a093dd0284cb58708e"
   }
  }
 },
 "nbformat": 4,
 "nbformat_minor": 2
}
